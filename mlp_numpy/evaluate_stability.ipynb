{
 "cells": [
  {
   "cell_type": "code",
   "execution_count": 81,
   "metadata": {},
   "outputs": [],
   "source": [
    "EXP_DIR = 'exp_2'         # Directory of the experiment containing the trained neural network to use\n",
    "N_TRIALS = 20             # Number of MCA trials to perform\n",
    "MCA_TAG = 'python-numpy'  # Tag of the fuzzy docker image to use (python, python-numpy, etc.). It corresponds to the use of MCA in different parts of the stack\n",
    "PRECISION_64 = 41         # Default: 53\n",
    "PRECISION_32 = 18         # Default: 24"
   ]
  },
  {
   "cell_type": "code",
   "execution_count": null,
   "metadata": {},
   "outputs": [],
   "source": [
    "import subprocess\n",
    "from tqdm import tqdm\n",
    "from utils import ExperimentResults\n",
    "\n",
    "\n",
    "def get_vfc_backends(precision_64, precision_32):\n",
    "    return ('libinterflop_mca.so '\n",
    "            f'--precision-binary64={precision_64} '\n",
    "            f'--precision-binary32={precision_32}')\n",
    "\n",
    "\n",
    "def get_results_names(exp, mca_tag, vfc_backends):\n",
    "    return exp.list(f\"test_predictions_{MCA_TAG}-{vfc_backends.replace(' ', '_')}*\")\n",
    "\n",
    "\n",
    "exp = ExperimentResults(EXP_DIR)\n",
    "vfc_backends = get_vfc_backends(PRECISION_64, PRECISION_32)\n",
    "\n",
    "n_existing_trials = len(get_results_names(exp, MCA_TAG, vfc_backends))\n",
    "for _ in tqdm(range(N_TRIALS - n_existing_trials)):\n",
    "    subprocess.run(['./predict_with_mca.sh', EXP_DIR, MCA_TAG, vfc_backends],\n",
    "                   check=True)"
   ]
  },
  {
   "cell_type": "code",
   "execution_count": 69,
   "metadata": {},
   "outputs": [],
   "source": [
    "import numpy as np\n",
    "\n",
    "\n",
    "def get_significant_digits(exp_dir=EXP_DIR, mca_tag=MCA_TAG,\n",
    "                           precision_64=PRECISION_64, precision_32=PRECISION_32):\n",
    "    \"\"\"\n",
    "        Using (3) from https://arxiv.org/pdf/1509.01347.pdf:\n",
    "        Adding 1e-16 inside log10 to result in 16 significant digits (maximum\n",
    "        with float64) when predictions_stds is 0.\n",
    "    \"\"\"\n",
    "    exp = ExperimentResults(exp_dir)\n",
    "    vfc_backends = get_vfc_backends(precision_64, precision_32)\n",
    "    results_names = get_results_names(exp, mca_tag, vfc_backends)\n",
    "    assert len(results_names) > 0, \"No experiment results found\"\n",
    "    predictions_results = np.stack([exp.load(n) for n in results_names])\n",
    "    print(f'Using data from {predictions_results.shape[0]} Monte-Carlo trials')\n",
    "\n",
    "    predictions_means = predictions_results.mean(axis=0)\n",
    "    predictions_stds = predictions_results.std(axis=0)\n",
    "    return -np.log10(predictions_stds / (np.abs(predictions_means)) + 1e-16)"
   ]
  },
  {
   "cell_type": "code",
   "execution_count": 70,
   "metadata": {},
   "outputs": [
    {
     "name": "stdout",
     "output_type": "stream",
     "text": [
      "Using directory exp_2\n",
      "Using data from 21 Monte-Carlo trials\n"
     ]
    },
    {
     "data": {
      "image/png": "[encoded data removed]",
      "text/plain": [
       "<Figure size 432x288 with 1 Axes>"
      ]
     },
     "metadata": {
      "needs_background": "light"
     },
     "output_type": "display_data"
    }
   ],
   "source": [
    "import matplotlib.pyplot as plt\n",
    "\n",
    "significant_digits_base10 = get_significant_digits(precision_64=53, precision_32=24)\n",
    "significant_digits_base10.round().astype(int)[:5]\n",
    "plt.hist(significant_digits_base10.ravel());"
   ]
  },
  {
   "cell_type": "code",
   "execution_count": 76,
   "metadata": {},
   "outputs": [
    {
     "name": "stdout",
     "output_type": "stream",
     "text": [
      "Using directory exp_2\n",
      "Using data from 20 Monte-Carlo trials\n"
     ]
    },
    {
     "data": {
      "image/png": "[encoded data removed]",
      "text/plain": [
       "<Figure size 432x288 with 1 Axes>"
      ]
     },
     "metadata": {
      "needs_background": "light"
     },
     "output_type": "display_data"
    }
   ],
   "source": [
    "import matplotlib.pyplot as plt\n",
    "\n",
    "significant_digits_base10 = get_significant_digits(precision_64=45, precision_32=20)\n",
    "significant_digits_base10.round().astype(int)[:5]\n",
    "plt.hist(significant_digits_base10.ravel());"
   ]
  },
  {
   "cell_type": "code",
   "execution_count": null,
   "metadata": {},
   "outputs": [],
   "source": []
  }
 ],
 "metadata": {
  "kernelspec": {
   "display_name": "Python 3",
   "language": "python",
   "name": "python3"
  },
  "language_info": {
   "codemirror_mode": {
    "name": "ipython",
    "version": 3
   },
   "file_extension": ".py",
   "mimetype": "text/x-python",
   "name": "python",
   "nbconvert_exporter": "python",
   "pygments_lexer": "ipython3",
   "version": "3.8.2"
  }
 },
 "nbformat": 4,
 "nbformat_minor": 4
}
