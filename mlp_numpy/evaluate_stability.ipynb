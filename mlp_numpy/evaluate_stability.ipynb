{
 "cells": [
  {
   "cell_type": "code",
   "execution_count": 23,
   "metadata": {},
   "outputs": [],
   "source": [
    "EXP_DIR = 'exp_2'        # Directory of the experiment containing the trained neural network to use \n",
    "N_TRIALS = 20            # Number of MCA trials to perform\n",
    "MCA_TAG = 'python-numpy' # Tag of the fuzzy docker image to use (python, python-numpy, etc.). It corresponds to the use of MCA in different part of the stack "
   ]
  },
  {
   "cell_type": "code",
   "execution_count": 24,
   "metadata": {},
   "outputs": [],
   "source": [
    "import subprocess\n",
    "\n",
    "n_existing_trials = len(exp.list(f'test_predictions_{MCA_TAG}_*'))\n",
    "for _ in range(N_TRIALS - n_existing_trials):\n",
    "    subprocess.run(['./predict_with_mca.sh', EXP_DIR, MCA_TAG], check=True)"
   ]
  },
  {
   "cell_type": "code",
   "execution_count": 25,
   "metadata": {},
   "outputs": [
    {
     "name": "stdout",
     "output_type": "stream",
     "text": [
      "Using directory exp_2\n",
      "Using data from 20 Monte-Carlo trials\n"
     ]
    }
   ],
   "source": [
    "import numpy as np\n",
    "from utils import ExperimentResults\n",
    "\n",
    "exp = ExperimentResults('exp_2')\n",
    "predictions_results = np.stack([exp.load(n) for n in exp.list(f'test_predictions_{MCA_TAG}_*')])\n",
    "print(f'Using data from {predictions_results.shape[0]} Monte-Carlo trials')"
   ]
  },
  {
   "cell_type": "markdown",
   "metadata": {},
   "source": [
    "Using (3) from https://arxiv.org/pdf/1509.01347.pdf:\n",
    "\n",
    "Adding 1e-16 inside log10 to result in 16 significant digits (maximum with float64) when predictions_stds is null"
   ]
  },
  {
   "cell_type": "code",
   "execution_count": 26,
   "metadata": {},
   "outputs": [
    {
     "data": {
      "text/plain": [
       "array([[14, 14, 14, 14, 14, 14, 14, 15, 14, 14],\n",
       "       [14, 14, 15, 14, 14, 14, 14, 14, 14, 14],\n",
       "       [14, 15, 14, 14, 14, 14, 14, 14, 14, 14],\n",
       "       [15, 14, 14, 14, 14, 14, 14, 14, 14, 14],\n",
       "       [14, 14, 14, 14, 15, 14, 14, 14, 14, 14]])"
      ]
     },
     "execution_count": 26,
     "metadata": {},
     "output_type": "execute_result"
    }
   ],
   "source": [
    "predictions_means = predictions_results.mean(axis=0)\n",
    "predictions_stds = predictions_results.std(axis=0)\n",
    "significant_digits_base10 = -np.log10(predictions_stds/(np.abs(predictions_means)) + 1e-16)\n",
    "significant_digits_base10.round().astype(int)[:5]"
   ]
  },
  {
   "cell_type": "code",
   "execution_count": 27,
   "metadata": {},
   "outputs": [
    {
     "data": {
      "image/png": "[encoded data removed]",
      "text/plain": [
       "<Figure size 432x288 with 1 Axes>"
      ]
     },
     "metadata": {
      "needs_background": "light"
     },
     "output_type": "display_data"
    }
   ],
   "source": [
    "import matplotlib.pyplot as plt\n",
    "plt.hist(significant_digits_base10.ravel());"
   ]
  }
 ],
 "metadata": {
  "kernelspec": {
   "display_name": "Python 3",
   "language": "python",
   "name": "python3"
  },
  "language_info": {
   "codemirror_mode": {
    "name": "ipython",
    "version": 3
   },
   "file_extension": ".py",
   "mimetype": "text/x-python",
   "name": "python",
   "nbconvert_exporter": "python",
   "pygments_lexer": "ipython3",
   "version": "3.8.2"
  }
 },
 "nbformat": 4,
 "nbformat_minor": 4
}
