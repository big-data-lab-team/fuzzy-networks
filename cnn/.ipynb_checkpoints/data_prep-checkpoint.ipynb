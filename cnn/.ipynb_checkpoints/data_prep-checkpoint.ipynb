{
 "cells": [
  {
   "cell_type": "code",
   "execution_count": 13,
   "metadata": {},
   "outputs": [],
   "source": [
    "import numpy as np \n",
    "import tensorflow as tf\n"
   ]
  },
  {
   "cell_type": "code",
   "execution_count": 14,
   "metadata": {},
   "outputs": [
    {
     "name": "stdout",
     "output_type": "stream",
     "text": [
      "(50000, 32, 32, 3)\n"
     ]
    }
   ],
   "source": [
    "(images_train, labels_train),(images_test,labels_test) = tf.keras.datasets.cifar10.load_data()\n",
    "print(np.shape(images_train))\n",
    "# plt.imshow(images_train[20])\n"
   ]
  },
  {
   "cell_type": "code",
   "execution_count": 15,
   "metadata": {},
   "outputs": [
    {
     "data": {
      "text/plain": [
       "(3072,)"
      ]
     },
     "execution_count": 15,
     "metadata": {},
     "output_type": "execute_result"
    }
   ],
   "source": [
    "# if grayscaling needed check\n",
    "# http://www.cs.nthu.edu.tw/~shwu/courses/ml/labs/11_NN_Regularization/11_NN_Regularization.html\n",
    "\n",
    "def normalize(data):\n",
    "    '''normalize inputs between 0 and 1 in preparation for '''\n",
    "    return data.astype('float32')/255.0\n",
    "\n",
    "images_train = normalize(images_train)\n",
    "np.shape(images_train)\n",
    "\n",
    "train_input = [np.reshape(x,3072) for x in images_train]\n",
    "np.shape(train_input)\n",
    "type(train_input)\n",
    "type(train_input[0])\n",
    "np.shape(train_input[0])"
   ]
  },
  {
   "cell_type": "code",
   "execution_count": 16,
   "metadata": {},
   "outputs": [
    {
     "name": "stdout",
     "output_type": "stream",
     "text": [
      "(50000, 1)\n",
      "[6]\n",
      "50000\n",
      "again 50000\n",
      "(50000, 10)\n"
     ]
    },
    {
     "data": {
      "text/plain": [
       "array([0., 0., 0., 0., 0., 0., 1., 0., 0., 0.])"
      ]
     },
     "execution_count": 16,
     "metadata": {},
     "output_type": "execute_result"
    }
   ],
   "source": [
    "def one_hot(y, n_classes=10):\n",
    "    return np.eye(n_classes)[y].reshape(len(y),n_classes)\n",
    "\n",
    "print(np.shape(labels_train))\n",
    "\n",
    "print(labels_train[0])\n",
    "print(len(labels_train))\n",
    "labels_train = one_hot(labels_train,10)\n",
    "print(\"again\",len(labels_train))\n",
    "print(np.shape(labels_train))\n",
    "labels_train[0]\n"
   ]
  },
  {
   "cell_type": "code",
   "execution_count": null,
   "metadata": {},
   "outputs": [],
   "source": []
  },
  {
   "cell_type": "code",
   "execution_count": null,
   "metadata": {},
   "outputs": [],
   "source": []
  }
 ],
 "metadata": {
  "kernelspec": {
   "display_name": "Python 3",
   "language": "python",
   "name": "python3"
  },
  "language_info": {
   "codemirror_mode": {
    "name": "ipython",
    "version": 3
   },
   "file_extension": ".py",
   "mimetype": "text/x-python",
   "name": "python",
   "nbconvert_exporter": "python",
   "pygments_lexer": "ipython3",
   "version": "3.7.7"
  }
 },
 "nbformat": 4,
 "nbformat_minor": 2
}
